{
 "cells": [
  {
   "cell_type": "markdown",
   "metadata": {},
   "source": [
    "### Problem 26 "
   ]
  },
  {
   "cell_type": "code",
   "execution_count": 12,
   "metadata": {},
   "outputs": [
    {
     "name": "stdout",
     "output_type": "stream",
     "text": [
      "21\n",
      "1\n"
     ]
    }
   ],
   "source": [
    "def Mymin(listA) :\n",
    "    min = listA[0]\n",
    "    for i in listA :\n",
    "        if min > i :\n",
    "            min = 1\n",
    "    return min\n",
    "\n",
    "def Mymax(listA) :\n",
    "    max = listA[0]\n",
    "    for i in listA :\n",
    "        if max < i :\n",
    "            max = i\n",
    "    return max\n",
    "\n",
    "print(Mymax([5,12,21,3,8,2,14]))\n",
    "print(Mymin([5,12,21,3,8,2,14]))"
   ]
  },
  {
   "cell_type": "markdown",
   "metadata": {},
   "source": [
    "### Problem 27"
   ]
  },
  {
   "cell_type": "code",
   "execution_count": 15,
   "metadata": {},
   "outputs": [
    {
     "ename": "SyntaxError",
     "evalue": "invalid syntax (<ipython-input-15-54776ae30bbf>, line 4)",
     "output_type": "error",
     "traceback": [
      "\u001b[0;36m  File \u001b[0;32m\"<ipython-input-15-54776ae30bbf>\"\u001b[0;36m, line \u001b[0;32m4\u001b[0m\n\u001b[0;31m    Newlist += [listA[] + Newlist(i + 1)]\u001b[0m\n\u001b[0m                      ^\u001b[0m\n\u001b[0;31mSyntaxError\u001b[0m\u001b[0;31m:\u001b[0m invalid syntax\n"
     ]
    }
   ],
   "source": [
    "def cumulative_sum(listA) :\n",
    "    Nawlist = listA[0]\n",
    "    for i in range(1,len(lista)) :\n",
    "        Newlist += [listA[] + Newlist(i + 1)]\n",
    "    return Newlist\n",
    "cumulative_sum([1,2,3,4])"
   ]
  },
  {
   "cell_type": "code",
   "execution_count": null,
   "metadata": {},
   "outputs": [],
   "source": []
  }
 ],
 "metadata": {
  "kernelspec": {
   "display_name": "Python 3",
   "language": "python",
   "name": "python3"
  },
  "language_info": {
   "codemirror_mode": {
    "name": "ipython",
    "version": 3
   },
   "file_extension": ".py",
   "mimetype": "text/x-python",
   "name": "python",
   "nbconvert_exporter": "python",
   "pygments_lexer": "ipython3",
   "version": "3.6.8"
  }
 },
 "nbformat": 4,
 "nbformat_minor": 4
}
